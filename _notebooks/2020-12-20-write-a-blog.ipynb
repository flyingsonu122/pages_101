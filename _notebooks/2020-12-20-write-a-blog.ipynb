# Write a Blog Post
> we will learn how to write blog using fastpages

- toc: false
- branch: master
- badges: true
- comments: true
- categories: [fastpages, jupyter]
- image: images/some_folder/your_image.png
- hide: false
- search_exclude: true
- author: Sonu kumar kushwaha
- metadata_key1: metadata_value1
- metadata_key2: metadata_value2

#collapse-hide
from ghapi.core import *
api = GhApi()
