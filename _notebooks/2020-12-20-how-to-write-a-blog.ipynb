# Fastpages Notebook Blog Post
> A tutorial of pages for Jupyter notebooks.

- toc: true 
- badges: true
- comments: true
- categories: [jupyter]
- image: images/chart-preview.png

